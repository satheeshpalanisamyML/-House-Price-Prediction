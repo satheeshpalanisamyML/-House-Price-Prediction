{
 "cells": [
  {
   "cell_type": "markdown",
   "id": "d8c68ec4",
   "metadata": {},
   "source": [
    "# Linear Regression with Python"
   ]
  },
  {
   "cell_type": "markdown",
   "id": "6dd3df6a",
   "metadata": {},
   "source": [
    " A real estate agent wants to predict housing prices in different regions of the USA. Let's create a model that takes in a few features of a house, such as its size, number of bedrooms, and location, and then gives an estimate of how much the house would sell for.\n",
    "\n",
    "Linear Regression might be a good path to solve this problem!\n",
    "\n",
    "You have some information about a bunch of houses in regions of the United States,it is all in the data set: USA_Housing.csv.\n",
    "\n",
    "The data contains the following columns:\n",
    "\n",
    "'Avg. Area Income': Avg. Income of residents of the city house is located in.\n",
    "\n",
    "'Avg. Area House Age': Avg Age of Houses in same city\n",
    "\n",
    "'Avg. Area Number of Rooms': Avg Number of Rooms for Houses in same city\n",
    "\n",
    "'Avg. Area Number of Bedrooms': Avg Number of Bedrooms for Houses in same city\n",
    "\n",
    "'Area Population': Population of city house is located in\n",
    "\n",
    "'Price': Price that the house sold at\n",
    "\n",
    "'Address': Address for the house"
   ]
  },
  {
   "cell_type": "markdown",
   "id": "11c060e4",
   "metadata": {},
   "source": [
    "# Import Libraries"
   ]
  },
  {
   "cell_type": "code",
   "execution_count": 1,
   "id": "e36bf310",
   "metadata": {},
   "outputs": [],
   "source": [
    "import numpy as np\n",
    "import pandas as pd\n",
    "import matplotlib.pyplot as plt\n",
    "import seaborn as sns\n",
    "from sklearn.model_selection import train_test_split\n",
    "from sklearn.linear_model import LinearRegression\n",
    "from sklearn.metrics import mean_absolute_percentage_error,r2_score\n"
   ]
  },
  {
   "cell_type": "markdown",
   "id": "9354e75c",
   "metadata": {},
   "source": [
    "# Check out the Data\n"
   ]
  },
  {
   "cell_type": "code",
   "execution_count": 2,
   "id": "d1abb7f3",
   "metadata": {},
   "outputs": [],
   "source": [
    "USAhousing=pd.read_csv('USA_Housing.csv')\n"
   ]
  },
  {
   "cell_type": "code",
   "execution_count": 3,
   "id": "88adcf95",
   "metadata": {},
   "outputs": [
    {
     "data": {
      "text/html": [
       "<div>\n",
       "<style scoped>\n",
       "    .dataframe tbody tr th:only-of-type {\n",
       "        vertical-align: middle;\n",
       "    }\n",
       "\n",
       "    .dataframe tbody tr th {\n",
       "        vertical-align: top;\n",
       "    }\n",
       "\n",
       "    .dataframe thead th {\n",
       "        text-align: right;\n",
       "    }\n",
       "</style>\n",
       "<table border=\"1\" class=\"dataframe\">\n",
       "  <thead>\n",
       "    <tr style=\"text-align: right;\">\n",
       "      <th></th>\n",
       "      <th>Avg. Area Income</th>\n",
       "      <th>Avg. Area House Age</th>\n",
       "      <th>Avg. Area Number of Rooms</th>\n",
       "      <th>Avg. Area Number of Bedrooms</th>\n",
       "      <th>Area Population</th>\n",
       "      <th>Price</th>\n",
       "      <th>Address</th>\n",
       "    </tr>\n",
       "  </thead>\n",
       "  <tbody>\n",
       "    <tr>\n",
       "      <th>0</th>\n",
       "      <td>79545.458574</td>\n",
       "      <td>5.682861</td>\n",
       "      <td>7.009188</td>\n",
       "      <td>4.09</td>\n",
       "      <td>23086.800503</td>\n",
       "      <td>1.059034e+06</td>\n",
       "      <td>208 Michael Ferry Apt. 674\\nLaurabury, NE 3701...</td>\n",
       "    </tr>\n",
       "    <tr>\n",
       "      <th>1</th>\n",
       "      <td>79248.642455</td>\n",
       "      <td>6.002900</td>\n",
       "      <td>6.730821</td>\n",
       "      <td>3.09</td>\n",
       "      <td>40173.072174</td>\n",
       "      <td>1.505891e+06</td>\n",
       "      <td>188 Johnson Views Suite 079\\nLake Kathleen, CA...</td>\n",
       "    </tr>\n",
       "    <tr>\n",
       "      <th>2</th>\n",
       "      <td>61287.067179</td>\n",
       "      <td>5.865890</td>\n",
       "      <td>8.512727</td>\n",
       "      <td>5.13</td>\n",
       "      <td>36882.159400</td>\n",
       "      <td>1.058988e+06</td>\n",
       "      <td>9127 Elizabeth Stravenue\\nDanieltown, WI 06482...</td>\n",
       "    </tr>\n",
       "    <tr>\n",
       "      <th>3</th>\n",
       "      <td>63345.240046</td>\n",
       "      <td>7.188236</td>\n",
       "      <td>5.586729</td>\n",
       "      <td>3.26</td>\n",
       "      <td>34310.242831</td>\n",
       "      <td>1.260617e+06</td>\n",
       "      <td>USS Barnett\\nFPO AP 44820</td>\n",
       "    </tr>\n",
       "    <tr>\n",
       "      <th>4</th>\n",
       "      <td>59982.197226</td>\n",
       "      <td>5.040555</td>\n",
       "      <td>7.839388</td>\n",
       "      <td>4.23</td>\n",
       "      <td>26354.109472</td>\n",
       "      <td>6.309435e+05</td>\n",
       "      <td>USNS Raymond\\nFPO AE 09386</td>\n",
       "    </tr>\n",
       "  </tbody>\n",
       "</table>\n",
       "</div>"
      ],
      "text/plain": [
       "   Avg. Area Income  Avg. Area House Age  Avg. Area Number of Rooms  \\\n",
       "0      79545.458574             5.682861                   7.009188   \n",
       "1      79248.642455             6.002900                   6.730821   \n",
       "2      61287.067179             5.865890                   8.512727   \n",
       "3      63345.240046             7.188236                   5.586729   \n",
       "4      59982.197226             5.040555                   7.839388   \n",
       "\n",
       "   Avg. Area Number of Bedrooms  Area Population         Price  \\\n",
       "0                          4.09     23086.800503  1.059034e+06   \n",
       "1                          3.09     40173.072174  1.505891e+06   \n",
       "2                          5.13     36882.159400  1.058988e+06   \n",
       "3                          3.26     34310.242831  1.260617e+06   \n",
       "4                          4.23     26354.109472  6.309435e+05   \n",
       "\n",
       "                                             Address  \n",
       "0  208 Michael Ferry Apt. 674\\nLaurabury, NE 3701...  \n",
       "1  188 Johnson Views Suite 079\\nLake Kathleen, CA...  \n",
       "2  9127 Elizabeth Stravenue\\nDanieltown, WI 06482...  \n",
       "3                          USS Barnett\\nFPO AP 44820  \n",
       "4                         USNS Raymond\\nFPO AE 09386  "
      ]
     },
     "execution_count": 3,
     "metadata": {},
     "output_type": "execute_result"
    }
   ],
   "source": [
    "USAhousing.head(5)"
   ]
  },
  {
   "cell_type": "code",
   "execution_count": 4,
   "id": "6ea2f52e",
   "metadata": {},
   "outputs": [
    {
     "data": {
      "text/plain": [
       "(5000, 7)"
      ]
     },
     "execution_count": 4,
     "metadata": {},
     "output_type": "execute_result"
    }
   ],
   "source": [
    "#checking number of rows and columns in the data frame\n",
    "USAhousing.shape"
   ]
  },
  {
   "cell_type": "code",
   "execution_count": 5,
   "id": "defd0dcc",
   "metadata": {},
   "outputs": [
    {
     "data": {
      "text/plain": [
       "Avg. Area Income                0\n",
       "Avg. Area House Age             0\n",
       "Avg. Area Number of Rooms       0\n",
       "Avg. Area Number of Bedrooms    0\n",
       "Area Population                 0\n",
       "Price                           0\n",
       "Address                         0\n",
       "dtype: int64"
      ]
     },
     "execution_count": 5,
     "metadata": {},
     "output_type": "execute_result"
    }
   ],
   "source": [
    "#checking missing values\n",
    "USAhousing.isnull().sum()"
   ]
  },
  {
   "cell_type": "code",
   "execution_count": 6,
   "id": "0cc204af",
   "metadata": {},
   "outputs": [
    {
     "data": {
      "text/html": [
       "<div>\n",
       "<style scoped>\n",
       "    .dataframe tbody tr th:only-of-type {\n",
       "        vertical-align: middle;\n",
       "    }\n",
       "\n",
       "    .dataframe tbody tr th {\n",
       "        vertical-align: top;\n",
       "    }\n",
       "\n",
       "    .dataframe thead th {\n",
       "        text-align: right;\n",
       "    }\n",
       "</style>\n",
       "<table border=\"1\" class=\"dataframe\">\n",
       "  <thead>\n",
       "    <tr style=\"text-align: right;\">\n",
       "      <th></th>\n",
       "      <th>Avg. Area Income</th>\n",
       "      <th>Avg. Area House Age</th>\n",
       "      <th>Avg. Area Number of Rooms</th>\n",
       "      <th>Avg. Area Number of Bedrooms</th>\n",
       "      <th>Area Population</th>\n",
       "      <th>Price</th>\n",
       "    </tr>\n",
       "  </thead>\n",
       "  <tbody>\n",
       "    <tr>\n",
       "      <th>count</th>\n",
       "      <td>5000.000000</td>\n",
       "      <td>5000.000000</td>\n",
       "      <td>5000.000000</td>\n",
       "      <td>5000.000000</td>\n",
       "      <td>5000.000000</td>\n",
       "      <td>5.000000e+03</td>\n",
       "    </tr>\n",
       "    <tr>\n",
       "      <th>mean</th>\n",
       "      <td>68583.108984</td>\n",
       "      <td>5.977222</td>\n",
       "      <td>6.987792</td>\n",
       "      <td>3.981330</td>\n",
       "      <td>36163.516039</td>\n",
       "      <td>1.232073e+06</td>\n",
       "    </tr>\n",
       "    <tr>\n",
       "      <th>std</th>\n",
       "      <td>10657.991214</td>\n",
       "      <td>0.991456</td>\n",
       "      <td>1.005833</td>\n",
       "      <td>1.234137</td>\n",
       "      <td>9925.650114</td>\n",
       "      <td>3.531176e+05</td>\n",
       "    </tr>\n",
       "    <tr>\n",
       "      <th>min</th>\n",
       "      <td>17796.631190</td>\n",
       "      <td>2.644304</td>\n",
       "      <td>3.236194</td>\n",
       "      <td>2.000000</td>\n",
       "      <td>172.610686</td>\n",
       "      <td>1.593866e+04</td>\n",
       "    </tr>\n",
       "    <tr>\n",
       "      <th>25%</th>\n",
       "      <td>61480.562388</td>\n",
       "      <td>5.322283</td>\n",
       "      <td>6.299250</td>\n",
       "      <td>3.140000</td>\n",
       "      <td>29403.928702</td>\n",
       "      <td>9.975771e+05</td>\n",
       "    </tr>\n",
       "    <tr>\n",
       "      <th>50%</th>\n",
       "      <td>68804.286404</td>\n",
       "      <td>5.970429</td>\n",
       "      <td>7.002902</td>\n",
       "      <td>4.050000</td>\n",
       "      <td>36199.406689</td>\n",
       "      <td>1.232669e+06</td>\n",
       "    </tr>\n",
       "    <tr>\n",
       "      <th>75%</th>\n",
       "      <td>75783.338666</td>\n",
       "      <td>6.650808</td>\n",
       "      <td>7.665871</td>\n",
       "      <td>4.490000</td>\n",
       "      <td>42861.290769</td>\n",
       "      <td>1.471210e+06</td>\n",
       "    </tr>\n",
       "    <tr>\n",
       "      <th>max</th>\n",
       "      <td>107701.748378</td>\n",
       "      <td>9.519088</td>\n",
       "      <td>10.759588</td>\n",
       "      <td>6.500000</td>\n",
       "      <td>69621.713378</td>\n",
       "      <td>2.469066e+06</td>\n",
       "    </tr>\n",
       "  </tbody>\n",
       "</table>\n",
       "</div>"
      ],
      "text/plain": [
       "       Avg. Area Income  Avg. Area House Age  Avg. Area Number of Rooms  \\\n",
       "count       5000.000000          5000.000000                5000.000000   \n",
       "mean       68583.108984             5.977222                   6.987792   \n",
       "std        10657.991214             0.991456                   1.005833   \n",
       "min        17796.631190             2.644304                   3.236194   \n",
       "25%        61480.562388             5.322283                   6.299250   \n",
       "50%        68804.286404             5.970429                   7.002902   \n",
       "75%        75783.338666             6.650808                   7.665871   \n",
       "max       107701.748378             9.519088                  10.759588   \n",
       "\n",
       "       Avg. Area Number of Bedrooms  Area Population         Price  \n",
       "count                   5000.000000      5000.000000  5.000000e+03  \n",
       "mean                       3.981330     36163.516039  1.232073e+06  \n",
       "std                        1.234137      9925.650114  3.531176e+05  \n",
       "min                        2.000000       172.610686  1.593866e+04  \n",
       "25%                        3.140000     29403.928702  9.975771e+05  \n",
       "50%                        4.050000     36199.406689  1.232669e+06  \n",
       "75%                        4.490000     42861.290769  1.471210e+06  \n",
       "max                        6.500000     69621.713378  2.469066e+06  "
      ]
     },
     "execution_count": 6,
     "metadata": {},
     "output_type": "execute_result"
    }
   ],
   "source": [
    "USAhousing.describe()"
   ]
  },
  {
   "cell_type": "code",
   "execution_count": 7,
   "id": "daf4f10d",
   "metadata": {},
   "outputs": [
    {
     "name": "stdout",
     "output_type": "stream",
     "text": [
      "<class 'pandas.core.frame.DataFrame'>\n",
      "RangeIndex: 5000 entries, 0 to 4999\n",
      "Data columns (total 7 columns):\n",
      " #   Column                        Non-Null Count  Dtype  \n",
      "---  ------                        --------------  -----  \n",
      " 0   Avg. Area Income              5000 non-null   float64\n",
      " 1   Avg. Area House Age           5000 non-null   float64\n",
      " 2   Avg. Area Number of Rooms     5000 non-null   float64\n",
      " 3   Avg. Area Number of Bedrooms  5000 non-null   float64\n",
      " 4   Area Population               5000 non-null   float64\n",
      " 5   Price                         5000 non-null   float64\n",
      " 6   Address                       5000 non-null   object \n",
      "dtypes: float64(6), object(1)\n",
      "memory usage: 273.6+ KB\n"
     ]
    }
   ],
   "source": [
    "USAhousing.info()"
   ]
  },
  {
   "cell_type": "code",
   "execution_count": 8,
   "id": "5378305a",
   "metadata": {},
   "outputs": [
    {
     "data": {
      "text/plain": [
       "Index(['Avg. Area Income', 'Avg. Area House Age', 'Avg. Area Number of Rooms',\n",
       "       'Avg. Area Number of Bedrooms', 'Area Population', 'Price', 'Address'],\n",
       "      dtype='object')"
      ]
     },
     "execution_count": 8,
     "metadata": {},
     "output_type": "execute_result"
    }
   ],
   "source": [
    "USAhousing.columns"
   ]
  },
  {
   "cell_type": "markdown",
   "id": "bf4e2dc7",
   "metadata": {},
   "source": [
    "# Understanding the correlation between various features in the datasets"
   ]
  },
  {
   "cell_type": "markdown",
   "id": "1339ee4d",
   "metadata": {},
   "source": [
    "1.Positive Correlation\n",
    "\n",
    "2.Negative Correlation"
   ]
  },
  {
   "cell_type": "code",
   "execution_count": 9,
   "id": "72b1d471",
   "metadata": {},
   "outputs": [
    {
     "data": {
      "text/html": [
       "<div>\n",
       "<style scoped>\n",
       "    .dataframe tbody tr th:only-of-type {\n",
       "        vertical-align: middle;\n",
       "    }\n",
       "\n",
       "    .dataframe tbody tr th {\n",
       "        vertical-align: top;\n",
       "    }\n",
       "\n",
       "    .dataframe thead th {\n",
       "        text-align: right;\n",
       "    }\n",
       "</style>\n",
       "<table border=\"1\" class=\"dataframe\">\n",
       "  <thead>\n",
       "    <tr style=\"text-align: right;\">\n",
       "      <th></th>\n",
       "      <th>Avg. Area Income</th>\n",
       "      <th>Avg. Area House Age</th>\n",
       "      <th>Avg. Area Number of Rooms</th>\n",
       "      <th>Avg. Area Number of Bedrooms</th>\n",
       "      <th>Area Population</th>\n",
       "      <th>Price</th>\n",
       "    </tr>\n",
       "  </thead>\n",
       "  <tbody>\n",
       "    <tr>\n",
       "      <th>Avg. Area Income</th>\n",
       "      <td>1.000000</td>\n",
       "      <td>-0.002007</td>\n",
       "      <td>-0.011032</td>\n",
       "      <td>0.019788</td>\n",
       "      <td>-0.016234</td>\n",
       "      <td>0.639734</td>\n",
       "    </tr>\n",
       "    <tr>\n",
       "      <th>Avg. Area House Age</th>\n",
       "      <td>-0.002007</td>\n",
       "      <td>1.000000</td>\n",
       "      <td>-0.009428</td>\n",
       "      <td>0.006149</td>\n",
       "      <td>-0.018743</td>\n",
       "      <td>0.452543</td>\n",
       "    </tr>\n",
       "    <tr>\n",
       "      <th>Avg. Area Number of Rooms</th>\n",
       "      <td>-0.011032</td>\n",
       "      <td>-0.009428</td>\n",
       "      <td>1.000000</td>\n",
       "      <td>0.462695</td>\n",
       "      <td>0.002040</td>\n",
       "      <td>0.335664</td>\n",
       "    </tr>\n",
       "    <tr>\n",
       "      <th>Avg. Area Number of Bedrooms</th>\n",
       "      <td>0.019788</td>\n",
       "      <td>0.006149</td>\n",
       "      <td>0.462695</td>\n",
       "      <td>1.000000</td>\n",
       "      <td>-0.022168</td>\n",
       "      <td>0.171071</td>\n",
       "    </tr>\n",
       "    <tr>\n",
       "      <th>Area Population</th>\n",
       "      <td>-0.016234</td>\n",
       "      <td>-0.018743</td>\n",
       "      <td>0.002040</td>\n",
       "      <td>-0.022168</td>\n",
       "      <td>1.000000</td>\n",
       "      <td>0.408556</td>\n",
       "    </tr>\n",
       "    <tr>\n",
       "      <th>Price</th>\n",
       "      <td>0.639734</td>\n",
       "      <td>0.452543</td>\n",
       "      <td>0.335664</td>\n",
       "      <td>0.171071</td>\n",
       "      <td>0.408556</td>\n",
       "      <td>1.000000</td>\n",
       "    </tr>\n",
       "  </tbody>\n",
       "</table>\n",
       "</div>"
      ],
      "text/plain": [
       "                              Avg. Area Income  Avg. Area House Age  \\\n",
       "Avg. Area Income                      1.000000            -0.002007   \n",
       "Avg. Area House Age                  -0.002007             1.000000   \n",
       "Avg. Area Number of Rooms            -0.011032            -0.009428   \n",
       "Avg. Area Number of Bedrooms          0.019788             0.006149   \n",
       "Area Population                      -0.016234            -0.018743   \n",
       "Price                                 0.639734             0.452543   \n",
       "\n",
       "                              Avg. Area Number of Rooms  \\\n",
       "Avg. Area Income                              -0.011032   \n",
       "Avg. Area House Age                           -0.009428   \n",
       "Avg. Area Number of Rooms                      1.000000   \n",
       "Avg. Area Number of Bedrooms                   0.462695   \n",
       "Area Population                                0.002040   \n",
       "Price                                          0.335664   \n",
       "\n",
       "                              Avg. Area Number of Bedrooms  Area Population  \\\n",
       "Avg. Area Income                                  0.019788        -0.016234   \n",
       "Avg. Area House Age                               0.006149        -0.018743   \n",
       "Avg. Area Number of Rooms                         0.462695         0.002040   \n",
       "Avg. Area Number of Bedrooms                      1.000000        -0.022168   \n",
       "Area Population                                  -0.022168         1.000000   \n",
       "Price                                             0.171071         0.408556   \n",
       "\n",
       "                                 Price  \n",
       "Avg. Area Income              0.639734  \n",
       "Avg. Area House Age           0.452543  \n",
       "Avg. Area Number of Rooms     0.335664  \n",
       "Avg. Area Number of Bedrooms  0.171071  \n",
       "Area Population               0.408556  \n",
       "Price                         1.000000  "
      ]
     },
     "execution_count": 9,
     "metadata": {},
     "output_type": "execute_result"
    }
   ],
   "source": [
    "correlation=USAhousing.corr()\n",
    "correlation"
   ]
  },
  {
   "cell_type": "code",
   "execution_count": 10,
   "id": "dfe0fbec",
   "metadata": {},
   "outputs": [
    {
     "data": {
      "text/plain": [
       "<AxesSubplot:>"
      ]
     },
     "execution_count": 10,
     "metadata": {},
     "output_type": "execute_result"
    },
    {
     "data": {
      "image/png": "[encoded data removed]",
      "text/plain": [
       "<Figure size 720x720 with 2 Axes>"
      ]
     },
     "metadata": {
      "needs_background": "light"
     },
     "output_type": "display_data"
    }
   ],
   "source": [
    "#Constructing a heatmap to understand the correlation \n",
    "plt.figure(figsize=(10,10))\n",
    "sns.heatmap(correlation,cbar=True,square=True,fmt='.1f',annot=True,annot_kws={'size':8},cmap='Blues')"
   ]
  },
  {
   "cell_type": "markdown",
   "id": "ff25ef7c",
   "metadata": {},
   "source": [
    "# Splitting the Data and Target"
   ]
  },
  {
   "cell_type": "code",
   "execution_count": 11,
   "id": "f39c5170",
   "metadata": {},
   "outputs": [],
   "source": [
    "X=USAhousing[['Avg. Area Income', 'Avg. Area House Age', 'Avg. Area Number of Rooms',\n",
    "       'Avg. Area Number of Bedrooms', 'Area Population']]\n",
    "Y=USAhousing['Price']"
   ]
  },
  {
   "cell_type": "code",
   "execution_count": 12,
   "id": "e2f3dca1",
   "metadata": {},
   "outputs": [
    {
     "data": {
      "text/html": [
       "<div>\n",
       "<style scoped>\n",
       "    .dataframe tbody tr th:only-of-type {\n",
       "        vertical-align: middle;\n",
       "    }\n",
       "\n",
       "    .dataframe tbody tr th {\n",
       "        vertical-align: top;\n",
       "    }\n",
       "\n",
       "    .dataframe thead th {\n",
       "        text-align: right;\n",
       "    }\n",
       "</style>\n",
       "<table border=\"1\" class=\"dataframe\">\n",
       "  <thead>\n",
       "    <tr style=\"text-align: right;\">\n",
       "      <th></th>\n",
       "      <th>Avg. Area Income</th>\n",
       "      <th>Avg. Area House Age</th>\n",
       "      <th>Avg. Area Number of Rooms</th>\n",
       "      <th>Avg. Area Number of Bedrooms</th>\n",
       "      <th>Area Population</th>\n",
       "    </tr>\n",
       "  </thead>\n",
       "  <tbody>\n",
       "    <tr>\n",
       "      <th>0</th>\n",
       "      <td>79545.458574</td>\n",
       "      <td>5.682861</td>\n",
       "      <td>7.009188</td>\n",
       "      <td>4.09</td>\n",
       "      <td>23086.800503</td>\n",
       "    </tr>\n",
       "    <tr>\n",
       "      <th>1</th>\n",
       "      <td>79248.642455</td>\n",
       "      <td>6.002900</td>\n",
       "      <td>6.730821</td>\n",
       "      <td>3.09</td>\n",
       "      <td>40173.072174</td>\n",
       "    </tr>\n",
       "    <tr>\n",
       "      <th>2</th>\n",
       "      <td>61287.067179</td>\n",
       "      <td>5.865890</td>\n",
       "      <td>8.512727</td>\n",
       "      <td>5.13</td>\n",
       "      <td>36882.159400</td>\n",
       "    </tr>\n",
       "    <tr>\n",
       "      <th>3</th>\n",
       "      <td>63345.240046</td>\n",
       "      <td>7.188236</td>\n",
       "      <td>5.586729</td>\n",
       "      <td>3.26</td>\n",
       "      <td>34310.242831</td>\n",
       "    </tr>\n",
       "    <tr>\n",
       "      <th>4</th>\n",
       "      <td>59982.197226</td>\n",
       "      <td>5.040555</td>\n",
       "      <td>7.839388</td>\n",
       "      <td>4.23</td>\n",
       "      <td>26354.109472</td>\n",
       "    </tr>\n",
       "    <tr>\n",
       "      <th>...</th>\n",
       "      <td>...</td>\n",
       "      <td>...</td>\n",
       "      <td>...</td>\n",
       "      <td>...</td>\n",
       "      <td>...</td>\n",
       "    </tr>\n",
       "    <tr>\n",
       "      <th>4995</th>\n",
       "      <td>60567.944140</td>\n",
       "      <td>7.830362</td>\n",
       "      <td>6.137356</td>\n",
       "      <td>3.46</td>\n",
       "      <td>22837.361035</td>\n",
       "    </tr>\n",
       "    <tr>\n",
       "      <th>4996</th>\n",
       "      <td>78491.275435</td>\n",
       "      <td>6.999135</td>\n",
       "      <td>6.576763</td>\n",
       "      <td>4.02</td>\n",
       "      <td>25616.115489</td>\n",
       "    </tr>\n",
       "    <tr>\n",
       "      <th>4997</th>\n",
       "      <td>63390.686886</td>\n",
       "      <td>7.250591</td>\n",
       "      <td>4.805081</td>\n",
       "      <td>2.13</td>\n",
       "      <td>33266.145490</td>\n",
       "    </tr>\n",
       "    <tr>\n",
       "      <th>4998</th>\n",
       "      <td>68001.331235</td>\n",
       "      <td>5.534388</td>\n",
       "      <td>7.130144</td>\n",
       "      <td>5.44</td>\n",
       "      <td>42625.620156</td>\n",
       "    </tr>\n",
       "    <tr>\n",
       "      <th>4999</th>\n",
       "      <td>65510.581804</td>\n",
       "      <td>5.992305</td>\n",
       "      <td>6.792336</td>\n",
       "      <td>4.07</td>\n",
       "      <td>46501.283803</td>\n",
       "    </tr>\n",
       "  </tbody>\n",
       "</table>\n",
       "<p>5000 rows × 5 columns</p>\n",
       "</div>"
      ],
      "text/plain": [
       "      Avg. Area Income  Avg. Area House Age  Avg. Area Number of Rooms  \\\n",
       "0         79545.458574             5.682861                   7.009188   \n",
       "1         79248.642455             6.002900                   6.730821   \n",
       "2         61287.067179             5.865890                   8.512727   \n",
       "3         63345.240046             7.188236                   5.586729   \n",
       "4         59982.197226             5.040555                   7.839388   \n",
       "...                ...                  ...                        ...   \n",
       "4995      60567.944140             7.830362                   6.137356   \n",
       "4996      78491.275435             6.999135                   6.576763   \n",
       "4997      63390.686886             7.250591                   4.805081   \n",
       "4998      68001.331235             5.534388                   7.130144   \n",
       "4999      65510.581804             5.992305                   6.792336   \n",
       "\n",
       "      Avg. Area Number of Bedrooms  Area Population  \n",
       "0                             4.09     23086.800503  \n",
       "1                             3.09     40173.072174  \n",
       "2                             5.13     36882.159400  \n",
       "3                             3.26     34310.242831  \n",
       "4                             4.23     26354.109472  \n",
       "...                            ...              ...  \n",
       "4995                          3.46     22837.361035  \n",
       "4996                          4.02     25616.115489  \n",
       "4997                          2.13     33266.145490  \n",
       "4998                          5.44     42625.620156  \n",
       "4999                          4.07     46501.283803  \n",
       "\n",
       "[5000 rows x 5 columns]"
      ]
     },
     "execution_count": 12,
     "metadata": {},
     "output_type": "execute_result"
    }
   ],
   "source": [
    "X"
   ]
  },
  {
   "cell_type": "code",
   "execution_count": 13,
   "id": "cc597706",
   "metadata": {},
   "outputs": [
    {
     "data": {
      "text/plain": [
       "0       1.059034e+06\n",
       "1       1.505891e+06\n",
       "2       1.058988e+06\n",
       "3       1.260617e+06\n",
       "4       6.309435e+05\n",
       "            ...     \n",
       "4995    1.060194e+06\n",
       "4996    1.482618e+06\n",
       "4997    1.030730e+06\n",
       "4998    1.198657e+06\n",
       "4999    1.298950e+06\n",
       "Name: Price, Length: 5000, dtype: float64"
      ]
     },
     "execution_count": 13,
     "metadata": {},
     "output_type": "execute_result"
    }
   ],
   "source": [
    "Y"
   ]
  },
  {
   "cell_type": "markdown",
   "id": "4fb7f18c",
   "metadata": {},
   "source": [
    "# Splitting the Data into Training and Test data"
   ]
  },
  {
   "cell_type": "code",
   "execution_count": 14,
   "id": "d158a5d9",
   "metadata": {},
   "outputs": [],
   "source": [
    "X_train,X_test,y_train,y_test=train_test_split(X,Y,test_size=0.2,random_state=42)\n"
   ]
  },
  {
   "cell_type": "code",
   "execution_count": 15,
   "id": "baa3f220",
   "metadata": {},
   "outputs": [
    {
     "data": {
      "text/html": [
       "<div>\n",
       "<style scoped>\n",
       "    .dataframe tbody tr th:only-of-type {\n",
       "        vertical-align: middle;\n",
       "    }\n",
       "\n",
       "    .dataframe tbody tr th {\n",
       "        vertical-align: top;\n",
       "    }\n",
       "\n",
       "    .dataframe thead th {\n",
       "        text-align: right;\n",
       "    }\n",
       "</style>\n",
       "<table border=\"1\" class=\"dataframe\">\n",
       "  <thead>\n",
       "    <tr style=\"text-align: right;\">\n",
       "      <th></th>\n",
       "      <th>Avg. Area Income</th>\n",
       "      <th>Avg. Area House Age</th>\n",
       "      <th>Avg. Area Number of Rooms</th>\n",
       "      <th>Avg. Area Number of Bedrooms</th>\n",
       "      <th>Area Population</th>\n",
       "    </tr>\n",
       "  </thead>\n",
       "  <tbody>\n",
       "    <tr>\n",
       "      <th>4227</th>\n",
       "      <td>66547.016454</td>\n",
       "      <td>5.846095</td>\n",
       "      <td>6.847298</td>\n",
       "      <td>4.13</td>\n",
       "      <td>27850.822901</td>\n",
       "    </tr>\n",
       "    <tr>\n",
       "      <th>4676</th>\n",
       "      <td>53722.008599</td>\n",
       "      <td>6.401391</td>\n",
       "      <td>7.787764</td>\n",
       "      <td>3.30</td>\n",
       "      <td>47649.224665</td>\n",
       "    </tr>\n",
       "    <tr>\n",
       "      <th>800</th>\n",
       "      <td>64838.492899</td>\n",
       "      <td>6.437157</td>\n",
       "      <td>8.699544</td>\n",
       "      <td>4.02</td>\n",
       "      <td>32921.010068</td>\n",
       "    </tr>\n",
       "    <tr>\n",
       "      <th>3671</th>\n",
       "      <td>67097.092120</td>\n",
       "      <td>6.086754</td>\n",
       "      <td>7.211963</td>\n",
       "      <td>3.05</td>\n",
       "      <td>27191.506877</td>\n",
       "    </tr>\n",
       "    <tr>\n",
       "      <th>4193</th>\n",
       "      <td>75245.465436</td>\n",
       "      <td>8.167820</td>\n",
       "      <td>7.420100</td>\n",
       "      <td>3.42</td>\n",
       "      <td>37410.669928</td>\n",
       "    </tr>\n",
       "    <tr>\n",
       "      <th>...</th>\n",
       "      <td>...</td>\n",
       "      <td>...</td>\n",
       "      <td>...</td>\n",
       "      <td>...</td>\n",
       "      <td>...</td>\n",
       "    </tr>\n",
       "    <tr>\n",
       "      <th>4426</th>\n",
       "      <td>76223.561256</td>\n",
       "      <td>6.371627</td>\n",
       "      <td>5.342217</td>\n",
       "      <td>2.42</td>\n",
       "      <td>30165.337445</td>\n",
       "    </tr>\n",
       "    <tr>\n",
       "      <th>466</th>\n",
       "      <td>56685.014442</td>\n",
       "      <td>6.958045</td>\n",
       "      <td>7.502115</td>\n",
       "      <td>3.38</td>\n",
       "      <td>43322.166854</td>\n",
       "    </tr>\n",
       "    <tr>\n",
       "      <th>3092</th>\n",
       "      <td>66195.337714</td>\n",
       "      <td>6.507971</td>\n",
       "      <td>6.611861</td>\n",
       "      <td>3.14</td>\n",
       "      <td>37288.923574</td>\n",
       "    </tr>\n",
       "    <tr>\n",
       "      <th>3772</th>\n",
       "      <td>58694.515017</td>\n",
       "      <td>7.394768</td>\n",
       "      <td>9.269453</td>\n",
       "      <td>4.32</td>\n",
       "      <td>49960.977236</td>\n",
       "    </tr>\n",
       "    <tr>\n",
       "      <th>860</th>\n",
       "      <td>61162.580254</td>\n",
       "      <td>5.896316</td>\n",
       "      <td>7.880521</td>\n",
       "      <td>6.04</td>\n",
       "      <td>36033.701431</td>\n",
       "    </tr>\n",
       "  </tbody>\n",
       "</table>\n",
       "<p>4000 rows × 5 columns</p>\n",
       "</div>"
      ],
      "text/plain": [
       "      Avg. Area Income  Avg. Area House Age  Avg. Area Number of Rooms  \\\n",
       "4227      66547.016454             5.846095                   6.847298   \n",
       "4676      53722.008599             6.401391                   7.787764   \n",
       "800       64838.492899             6.437157                   8.699544   \n",
       "3671      67097.092120             6.086754                   7.211963   \n",
       "4193      75245.465436             8.167820                   7.420100   \n",
       "...                ...                  ...                        ...   \n",
       "4426      76223.561256             6.371627                   5.342217   \n",
       "466       56685.014442             6.958045                   7.502115   \n",
       "3092      66195.337714             6.507971                   6.611861   \n",
       "3772      58694.515017             7.394768                   9.269453   \n",
       "860       61162.580254             5.896316                   7.880521   \n",
       "\n",
       "      Avg. Area Number of Bedrooms  Area Population  \n",
       "4227                          4.13     27850.822901  \n",
       "4676                          3.30     47649.224665  \n",
       "800                           4.02     32921.010068  \n",
       "3671                          3.05     27191.506877  \n",
       "4193                          3.42     37410.669928  \n",
       "...                            ...              ...  \n",
       "4426                          2.42     30165.337445  \n",
       "466                           3.38     43322.166854  \n",
       "3092                          3.14     37288.923574  \n",
       "3772                          4.32     49960.977236  \n",
       "860                           6.04     36033.701431  \n",
       "\n",
       "[4000 rows x 5 columns]"
      ]
     },
     "execution_count": 15,
     "metadata": {},
     "output_type": "execute_result"
    }
   ],
   "source": [
    "X_train"
   ]
  },
  {
   "cell_type": "code",
   "execution_count": 16,
   "id": "c2d559d0",
   "metadata": {},
   "outputs": [
    {
     "data": {
      "text/html": [
       "<div>\n",
       "<style scoped>\n",
       "    .dataframe tbody tr th:only-of-type {\n",
       "        vertical-align: middle;\n",
       "    }\n",
       "\n",
       "    .dataframe tbody tr th {\n",
       "        vertical-align: top;\n",
       "    }\n",
       "\n",
       "    .dataframe thead th {\n",
       "        text-align: right;\n",
       "    }\n",
       "</style>\n",
       "<table border=\"1\" class=\"dataframe\">\n",
       "  <thead>\n",
       "    <tr style=\"text-align: right;\">\n",
       "      <th></th>\n",
       "      <th>Avg. Area Income</th>\n",
       "      <th>Avg. Area House Age</th>\n",
       "      <th>Avg. Area Number of Rooms</th>\n",
       "      <th>Avg. Area Number of Bedrooms</th>\n",
       "      <th>Area Population</th>\n",
       "    </tr>\n",
       "  </thead>\n",
       "  <tbody>\n",
       "    <tr>\n",
       "      <th>1501</th>\n",
       "      <td>61907.593345</td>\n",
       "      <td>7.017838</td>\n",
       "      <td>6.440256</td>\n",
       "      <td>3.25</td>\n",
       "      <td>43828.947207</td>\n",
       "    </tr>\n",
       "    <tr>\n",
       "      <th>2586</th>\n",
       "      <td>57160.202243</td>\n",
       "      <td>6.893260</td>\n",
       "      <td>6.921532</td>\n",
       "      <td>3.13</td>\n",
       "      <td>43467.147035</td>\n",
       "    </tr>\n",
       "    <tr>\n",
       "      <th>2653</th>\n",
       "      <td>70190.796445</td>\n",
       "      <td>6.745054</td>\n",
       "      <td>6.662567</td>\n",
       "      <td>2.01</td>\n",
       "      <td>29215.136112</td>\n",
       "    </tr>\n",
       "    <tr>\n",
       "      <th>1055</th>\n",
       "      <td>69316.796889</td>\n",
       "      <td>6.300409</td>\n",
       "      <td>7.873576</td>\n",
       "      <td>4.28</td>\n",
       "      <td>24448.211461</td>\n",
       "    </tr>\n",
       "    <tr>\n",
       "      <th>705</th>\n",
       "      <td>72991.481649</td>\n",
       "      <td>3.412866</td>\n",
       "      <td>6.494081</td>\n",
       "      <td>2.48</td>\n",
       "      <td>50626.495426</td>\n",
       "    </tr>\n",
       "    <tr>\n",
       "      <th>...</th>\n",
       "      <td>...</td>\n",
       "      <td>...</td>\n",
       "      <td>...</td>\n",
       "      <td>...</td>\n",
       "      <td>...</td>\n",
       "    </tr>\n",
       "    <tr>\n",
       "      <th>4711</th>\n",
       "      <td>77267.656264</td>\n",
       "      <td>3.939501</td>\n",
       "      <td>8.342808</td>\n",
       "      <td>6.09</td>\n",
       "      <td>22487.712072</td>\n",
       "    </tr>\n",
       "    <tr>\n",
       "      <th>2313</th>\n",
       "      <td>75967.135085</td>\n",
       "      <td>5.939370</td>\n",
       "      <td>6.111658</td>\n",
       "      <td>2.32</td>\n",
       "      <td>38897.091584</td>\n",
       "    </tr>\n",
       "    <tr>\n",
       "      <th>3214</th>\n",
       "      <td>81013.615294</td>\n",
       "      <td>7.149797</td>\n",
       "      <td>7.239105</td>\n",
       "      <td>5.44</td>\n",
       "      <td>45472.049451</td>\n",
       "    </tr>\n",
       "    <tr>\n",
       "      <th>2732</th>\n",
       "      <td>86762.882864</td>\n",
       "      <td>6.530193</td>\n",
       "      <td>5.106962</td>\n",
       "      <td>2.09</td>\n",
       "      <td>47724.581355</td>\n",
       "    </tr>\n",
       "    <tr>\n",
       "      <th>1926</th>\n",
       "      <td>67071.830617</td>\n",
       "      <td>4.935155</td>\n",
       "      <td>7.632398</td>\n",
       "      <td>5.04</td>\n",
       "      <td>32084.743400</td>\n",
       "    </tr>\n",
       "  </tbody>\n",
       "</table>\n",
       "<p>1000 rows × 5 columns</p>\n",
       "</div>"
      ],
      "text/plain": [
       "      Avg. Area Income  Avg. Area House Age  Avg. Area Number of Rooms  \\\n",
       "1501      61907.593345             7.017838                   6.440256   \n",
       "2586      57160.202243             6.893260                   6.921532   \n",
       "2653      70190.796445             6.745054                   6.662567   \n",
       "1055      69316.796889             6.300409                   7.873576   \n",
       "705       72991.481649             3.412866                   6.494081   \n",
       "...                ...                  ...                        ...   \n",
       "4711      77267.656264             3.939501                   8.342808   \n",
       "2313      75967.135085             5.939370                   6.111658   \n",
       "3214      81013.615294             7.149797                   7.239105   \n",
       "2732      86762.882864             6.530193                   5.106962   \n",
       "1926      67071.830617             4.935155                   7.632398   \n",
       "\n",
       "      Avg. Area Number of Bedrooms  Area Population  \n",
       "1501                          3.25     43828.947207  \n",
       "2586                          3.13     43467.147035  \n",
       "2653                          2.01     29215.136112  \n",
       "1055                          4.28     24448.211461  \n",
       "705                           2.48     50626.495426  \n",
       "...                            ...              ...  \n",
       "4711                          6.09     22487.712072  \n",
       "2313                          2.32     38897.091584  \n",
       "3214                          5.44     45472.049451  \n",
       "2732                          2.09     47724.581355  \n",
       "1926                          5.04     32084.743400  \n",
       "\n",
       "[1000 rows x 5 columns]"
      ]
     },
     "execution_count": 16,
     "metadata": {},
     "output_type": "execute_result"
    }
   ],
   "source": [
    "X_test"
   ]
  },
  {
   "cell_type": "code",
   "execution_count": 17,
   "id": "7da31825",
   "metadata": {},
   "outputs": [
    {
     "name": "stdout",
     "output_type": "stream",
     "text": [
      "(5000, 5) (4000, 5) (1000, 5)\n"
     ]
    }
   ],
   "source": [
    "print(X.shape,X_train.shape,X_test.shape)"
   ]
  },
  {
   "cell_type": "code",
   "execution_count": 18,
   "id": "5cd03392",
   "metadata": {},
   "outputs": [
    {
     "name": "stdout",
     "output_type": "stream",
     "text": [
      "(5000,) (4000,) (1000,)\n"
     ]
    }
   ],
   "source": [
    "print(Y.shape,y_train.shape,y_test.shape)"
   ]
  },
  {
   "cell_type": "markdown",
   "id": "8a31326a",
   "metadata": {},
   "source": [
    "# Model Training-Linear Regression"
   ]
  },
  {
   "cell_type": "code",
   "execution_count": 19,
   "id": "e7b9a6a3",
   "metadata": {},
   "outputs": [
    {
     "data": {
      "text/plain": [
       "LinearRegression()"
      ]
     },
     "execution_count": 19,
     "metadata": {},
     "output_type": "execute_result"
    }
   ],
   "source": [
    "model=LinearRegression()\n",
    "model.fit(X_train,y_train)"
   ]
  },
  {
   "cell_type": "markdown",
   "id": "8888a9c6",
   "metadata": {},
   "source": [
    "# Prediction from our model"
   ]
  },
  {
   "cell_type": "code",
   "execution_count": 20,
   "id": "ae0f8fd5",
   "metadata": {},
   "outputs": [],
   "source": [
    "y_pred=model.predict(X_test)\n"
   ]
  },
  {
   "cell_type": "code",
   "execution_count": 21,
   "id": "6b4a0503",
   "metadata": {},
   "outputs": [
    {
     "data": {
      "text/plain": [
       "array([1308587.92699714, 1237037.22949391, 1243429.34030722,\n",
       "       1228900.21360437, 1063320.90710747, 1544058.05034817,\n",
       "       1094774.70493034,  833284.72339249,  788412.85578756,\n",
       "       1469714.86615696,  671728.43662092, 1606818.21977767,\n",
       "       1004166.61331045, 1796798.97595973, 1288566.96220949,\n",
       "       1087782.93301086, 1423072.3749249 , 1078178.68169646,\n",
       "        802286.03537917,  930761.03695739, 1134829.86477803,\n",
       "        916398.42023083, 1489972.69335353, 1284580.15538841,\n",
       "       1582071.35322685, 1132519.15992002, 1089888.39644489,\n",
       "        974510.51872177,  924057.96820804, 1740759.72092213,\n",
       "       1286481.59512379, 1621289.95171618, 1435264.20161695,\n",
       "       1234014.77924529, 1485434.5730037 , 1718335.00753592,\n",
       "       1538953.74882758,  777106.64791831, 1765201.52243597,\n",
       "       1175972.14199831, 1553707.94323478,  897703.67505165,\n",
       "       1371049.803266  ,  845281.72310351, 1201022.89803856,\n",
       "       1133285.98450789, 1363128.14557396, 1449814.0876822 ,\n",
       "       1574363.90467323, 1233577.50266003, 1484464.01606146,\n",
       "       1295276.58943534, 1222136.77335411,  990124.41659661,\n",
       "       1693824.96035776, 1823785.05665058, 1136495.63903301,\n",
       "       1282164.40305655, 1327292.05443206, 1353355.51909081,\n",
       "        966265.44346008,  661906.6391724 , 1533750.56861038,\n",
       "       1002479.76053604,  995799.79959577, 1567349.59707181,\n",
       "       1500813.63482544, 1090078.00056468, 1820964.84741614,\n",
       "       1479856.167243  ,  902785.3021607 , 1494542.21679532,\n",
       "       1378859.29762395,  962610.88478541,  712800.76347545,\n",
       "       1565650.37425334, 1149218.97654367,  931311.21938312,\n",
       "       1600923.95574322,  506875.42639308, 1592924.03164877,\n",
       "       1292023.54953404,  681260.98814038,  432977.16110055,\n",
       "       1395334.63471246,  696834.50740119,  663613.86440665,\n",
       "       1030075.82567097, 1485134.02140083, 1320071.75329084,\n",
       "       1271264.11329325, 1422274.66428959,  671601.89583304,\n",
       "       1149995.64271503, 1261301.82190822,  784691.75366812,\n",
       "       1189915.30485975, 1014887.17531276, 1405378.85715023,\n",
       "       1539076.97995898,  593301.15079239, 1391801.76393913,\n",
       "       1262742.70864065, 1875132.68141912, 2336899.33387139,\n",
       "        946302.25269136, 1315655.58002691,  953107.00437499,\n",
       "       1831758.2748312 , 1625882.69024171, 1639245.35999709,\n",
       "       1267016.02457525, 1804840.84718802, 1220829.46104284,\n",
       "        850670.85934729, 1584187.59595389,  761904.58839524,\n",
       "       1360032.80169357, 1186062.16197455, 1559470.32105814,\n",
       "       1770323.74482733, 1608248.53684128, 1573661.86962713,\n",
       "       1531208.64376156, 1812547.75249855, 1124965.37862327,\n",
       "        669517.22471181,  978249.45590812, 1316294.24560539,\n",
       "       1627775.4894282 , 1343329.23943851, 1088746.21767489,\n",
       "       1516813.82322275, 1333391.56256443, 1421961.53699961,\n",
       "       1527965.13951197, 1674048.56946842, 1301125.76637761,\n",
       "        843902.14276083, 1439397.74699529, 1857462.44038355,\n",
       "       1090388.23396924, 1845464.91767028, 1272015.37672498,\n",
       "       2036878.56552091,  882686.73444809,  954142.09498624,\n",
       "       1116676.58455452, 1395124.12307515, 1510721.91006236,\n",
       "        952949.66077836,  969883.09423412, 1320445.66982262,\n",
       "       1494548.61488366, 1311797.03936272,  764593.88740317,\n",
       "       1729945.04026266,  966390.95323417, 1980014.56655046,\n",
       "       1253548.560401  , 1378043.01470128, 1465705.85673404,\n",
       "       1041643.25777121, 2016178.1230771 , 1425286.31755915,\n",
       "        783766.05598717,  826322.77792554, 1753896.36530072,\n",
       "       1077079.69502203, 2073701.72252865, 1735967.08462983,\n",
       "       1049433.84155988, 1829294.89844213, 1128895.79613832,\n",
       "       1629029.3528393 , 1634470.42260782, 1524785.7096465 ,\n",
       "        722156.79424196,  740342.6213115 ,  547622.83148213,\n",
       "        828931.14665451, 1067364.15017839,  969253.52659167,\n",
       "       1227292.55245908,  871755.1279939 ,  504202.02965952,\n",
       "       1200044.47873889, 1062310.88487562, 1519500.9929722 ,\n",
       "       1329223.54689472, 1386542.64820107, 1320937.40536445,\n",
       "       1204359.90632443, 1240619.19034638, 1365626.91484043,\n",
       "       1769953.37847142, 1329720.91129388, 1376332.51764085,\n",
       "       1298990.36407913,  834744.4031073 , 1272066.20149392,\n",
       "       1451499.03548565, 1289190.8208585 ,  896873.03598678,\n",
       "        990437.07011067, 1357842.65851649, 1649364.37150859,\n",
       "        779324.24925057, 1005588.56759432, 1467831.8143511 ,\n",
       "       1124908.45994284, 1142768.9365308 , 1250196.34738778,\n",
       "       1105424.47695273,  622294.93861793, 1841657.41212501,\n",
       "       1182731.53995538,  609160.57633679, 1410661.53419237,\n",
       "       1263529.22101432, 1119673.80759963, 1145399.95692925,\n",
       "        500449.33291   , 1109883.63039201, 1626981.199574  ,\n",
       "        797675.84432516, 1407092.10326845, 1560733.66870717,\n",
       "       1698894.16984378, 1714320.59543043, 1216152.65562669,\n",
       "       1114774.40354027, 1001067.89613646, 1065269.68436401,\n",
       "       1625179.02290118, 1593962.78450191, 1526221.35988262,\n",
       "       1129983.77332897,  735887.82286918, 1593872.8090903 ,\n",
       "       1732256.51293184, 1264953.46131018, 1216712.64382556,\n",
       "       1539828.39332814, 1748273.31153947,  544482.71161728,\n",
       "       1177808.65915499, 1404019.93663788, 1125393.51909489,\n",
       "        545088.45128059, 1290749.88927717, 1658361.89913428,\n",
       "       1487203.28008188, 1291143.0383848 , 2050455.1676041 ,\n",
       "        768874.19747935, 1863631.84714332,  929819.17764119,\n",
       "       1761083.62018149, 1659001.75083626, 1247438.96208962,\n",
       "        713427.40837841, 1778756.53025758,  461932.49611819,\n",
       "       2167306.95873247,  664672.42431932, 1801836.62367777,\n",
       "       1265099.18805304, 1139217.30086043, 1173989.48300885,\n",
       "       1748192.41949242, 1147793.31302128, 1029923.90766774,\n",
       "        947126.10538068, 1182469.49434635,  927601.20005187,\n",
       "       1566514.61685729, 1175827.55938891,  388087.54801502,\n",
       "       1288959.37006079,  986658.1919734 , 1340019.64945834,\n",
       "       1044418.84541027, 1286342.56336201, 1531000.55785291,\n",
       "       1667768.88543247, 1084796.51405753,  720967.4306256 ,\n",
       "        811997.72885717, 1328871.66384378, 1519499.84416171,\n",
       "       1379415.47205369, 1457746.58240954,  998979.73972497,\n",
       "       2252173.82126767, 1491966.70905195, 1349013.08643529,\n",
       "       1042666.25727847,  486559.46844387, 1792549.96363352,\n",
       "       1193458.84754761, 1247203.2650348 , 1122698.47045959,\n",
       "       1004013.28018429, 1699121.45816191, 1504252.14207202,\n",
       "       1432835.58985504, 1342786.68025844, 1601414.77106583,\n",
       "        821506.76488296, 1126578.53904187, 1291476.44544105,\n",
       "       1698968.4422244 , 1232602.9332531 , 1489643.67510259,\n",
       "       1233262.35005618, 1135048.11749495, 1732127.82573453,\n",
       "       1348162.21747094,  621085.06641237, 1501389.10755797,\n",
       "       1201749.81984471, 1326727.70232223, 1097551.72695628,\n",
       "       1221290.6626145 ,  788262.02543974,  935562.28249739,\n",
       "       1287412.17867166, 1473888.67757694,  609893.86640576,\n",
       "       1183181.37838201, 1035484.44410104,  809285.45807012,\n",
       "        655567.08949461,  983743.80081262,  986631.41757991,\n",
       "       1320596.67974152, 1196954.70045335,  961010.91970451,\n",
       "       1275847.42178904, 1425242.66569497, 1654320.5462453 ,\n",
       "       1521722.43867584, 1396978.62698658, 1413827.92718118,\n",
       "       1219885.02000764, 1232374.5990155 , 1654016.63386521,\n",
       "       1328324.05157988, 1321091.57152418, 1299216.74514609,\n",
       "       1347305.90163688, 1688687.80000919, 1574519.36949702,\n",
       "       1045335.69889304, 1356261.70016912, 1439514.97152487,\n",
       "       1504156.15649894, 1138145.82597046, 1500051.72294308,\n",
       "       1486912.30438018,  385027.92486015, 1216217.42146564,\n",
       "       1726329.91434959, 1207805.98489455,  894601.19092648,\n",
       "       1240643.83179271, 1308440.22054425, 1437359.37891269,\n",
       "        893239.6816693 , 1792787.36750054, 2076933.42343334,\n",
       "        922567.65702038, 1458351.25849111, 1249772.50297827,\n",
       "       1370805.23907784, 1121245.98909414,  963231.49570935,\n",
       "       1327241.12918529, 1187327.23418126,  943716.62278268,\n",
       "        424854.57298743, 1223724.58352509, 1411756.82716417,\n",
       "       1236002.32151855, 1449021.08575886, 1411706.423207  ,\n",
       "        926881.67781004, 1006631.71873016, 1325140.65527558,\n",
       "        470014.10664436, 1568408.54620602, 1071690.67501273,\n",
       "       1261709.43785505,  983184.15258562, 1086377.76905192,\n",
       "        726363.60820813,  814172.12713779,  803025.5488858 ,\n",
       "       1619615.99437041,  459335.13663739, 1300390.9001114 ,\n",
       "        961516.33244628, 1025131.04020116, 1384778.89206789,\n",
       "       1235853.66369932,  769788.89202082, 1026166.69741528,\n",
       "       1405638.84930905, 1756291.1165281 , 1280487.11747006,\n",
       "        622591.98844858, 1449923.84156208, 1198418.94698622,\n",
       "       1356968.16583347, 1079271.72703246, 1352329.77296876,\n",
       "       1057107.45852964, 1290462.77150162,  705163.48550206,\n",
       "       1200364.66997161, 1507695.00401142,  962337.84598511,\n",
       "       1204232.84729686, 1571860.58065027, 1209464.73857427,\n",
       "       1549865.08072211,  769645.60725025, 1404674.43922921,\n",
       "       1240637.52783313, 1029500.08001662, 1335457.58612514,\n",
       "       1088594.03736602, 1047144.04180958, 1388984.12610535,\n",
       "        918924.01605126, 1096407.50174631, 1406966.35948271,\n",
       "        806952.29876878, 1196187.41426752, 1010141.32136431,\n",
       "       1394711.984787  , 1257521.42006973, 1299693.11290862,\n",
       "       1294970.9428869 , 1723105.21964877, 1711247.39032038,\n",
       "       1174489.95194168,  897740.74110047, 1356640.83884517,\n",
       "       1219851.03447622, 1366674.22214225, 1644472.14734927,\n",
       "        724989.37808751, 1570999.00692545,  924989.36290744,\n",
       "        673283.26497766, 1589694.70648699, 1373578.19145125,\n",
       "       1236758.80570297, 1939038.59441329, 1248340.03854229,\n",
       "       1393184.15037987, 1703469.17720753, 1059230.86749291,\n",
       "       1268676.36389762, 1304697.18785127,  892460.1227714 ,\n",
       "        964864.99058535,  818820.07760037, 1401580.5474752 ,\n",
       "       1180874.94215921, 1259247.43803538, 1702902.0449319 ,\n",
       "       1649087.11983931, 1731289.88335283, 1125719.05993057,\n",
       "        865172.86237642,  968232.22605858,  784711.55849911,\n",
       "        781822.82332277, 1209737.47415562,  972635.23672537,\n",
       "       1576919.8361663 , 1060076.42506716,  694196.84219498,\n",
       "       1610587.67992984, 1309658.6163039 , 1141463.96987352,\n",
       "       1205906.9859995 , 1281336.1844416 , 1171886.92407766,\n",
       "       1567896.4506818 , 1322659.49232192, 1166515.84227974,\n",
       "        789697.38830608, 1143720.96771758,  648247.70636935,\n",
       "       1071126.44204693, 1428574.57982083, 1424322.83234031,\n",
       "       1057501.45875355, 1430509.55156425, 1324079.70373571,\n",
       "       1292014.8973667 , 1071126.32745223, 1287175.72484535,\n",
       "       1019167.68338732, 1037478.15144031, 1049936.76364954,\n",
       "        731789.18467522,  782568.77309993, 1002203.86002329,\n",
       "       1067321.67597129, 1124201.97076048, 1457954.83235594,\n",
       "       1108354.56185648, 1598770.07901318, 1176022.85579896,\n",
       "       1096986.73368095, 1247383.41805669, 1363559.4817819 ,\n",
       "        773372.64579591,  822330.64613243,  993393.81206808,\n",
       "       1543915.09520911, 1493186.91902704, 1175891.67528439,\n",
       "       1253692.12639549, 1521005.76686495, 1627802.51180515,\n",
       "       1686082.39992492, 1980124.37797531,  977460.80106607,\n",
       "       1109687.22060379, 1113007.40549553, 1211544.64900645,\n",
       "       1407486.32673172,  789313.25630073, 1234898.66189976,\n",
       "       1209078.69432756, 1803383.9507997 , 2114888.79328687,\n",
       "       1118853.92157715, 1206707.38468672, 1352852.993439  ,\n",
       "       1396175.67664005, 1546374.75741914,  666842.59066057,\n",
       "       1481420.71952374, 1021477.4551858 ,  968486.88335943,\n",
       "       1424082.26366213, 1914787.2410711 ,  914204.87835342,\n",
       "       1489860.90731096,  693922.34630688, 1031062.51066014,\n",
       "       1352126.0325433 , 1373512.52703602, 1049109.83383307,\n",
       "       1486525.47762685, 1310520.39595894, 1647941.99311814,\n",
       "       1283575.24055879, 1452989.07762719, 1429414.83148135,\n",
       "       1034083.03488008, 1134634.5146035 , 1403564.88673527,\n",
       "       1584896.61276133, 1746823.45559135, 1466283.25973606,\n",
       "       1294745.41392556, 1051682.47255767, 1101548.76032296,\n",
       "       1465167.00089561, 1382725.06572414,  939224.93035434,\n",
       "       1337350.76799284, 1120979.59497988, 1319831.0377081 ,\n",
       "        558962.93258741, 1401611.09978773, 1354544.07306087,\n",
       "       1306334.89969526, 2086259.17091894, 1904134.11165433,\n",
       "        539895.35619552, 1525528.05146349, 1235213.44649991,\n",
       "        750639.88255422, 1127965.98258833, 1471490.85051118,\n",
       "        619419.48787537, 1114997.61194519, 1061464.69123039,\n",
       "       1013604.11379751, 1581434.85227387, 1079499.50514151,\n",
       "       1055056.29175909, 1034589.95466434, 1224314.04495528,\n",
       "        887268.18862849, 1516254.20491696, 1865327.56742204,\n",
       "       1027371.06429478, 1490055.38180638, 1337289.95134359,\n",
       "       1119421.33157691,  979092.31019086,  679557.25776168,\n",
       "       1325905.50178092, 1171590.73226988, 1567491.12331888,\n",
       "       1143856.19166598, 1126148.64416527,  864154.38857817,\n",
       "        490147.41546395, 1291071.27278545, 1038384.50618656,\n",
       "       1662679.55956637, 1160624.90934354, 2037284.10126505,\n",
       "       1516262.89327408, 1229075.2331131 , 1547218.08935872,\n",
       "       1434753.6539263 , 1709132.86008207, 1281184.09975617,\n",
       "       1524044.07660681,  968015.40091394, 1293671.18547207,\n",
       "       1106474.84699341, 1431104.22750471, 1712068.30269008,\n",
       "       1160254.52501101,  655742.41586225, 1226710.98389822,\n",
       "        927585.91056611, 1267635.28046212,  891680.82011524,\n",
       "       1234379.98343431,  921258.67102351,  973622.38506852,\n",
       "       1211118.4915946 , 1152861.17190993, 1769241.04652278,\n",
       "       1185559.02437273,  982633.08890869, 1332532.6146074 ,\n",
       "       1642473.93936951,  965382.57146955, 1281975.93146394,\n",
       "       1406343.90581985,  677673.85740157, 1209557.69139042,\n",
       "        732921.10636363, 1682132.4524236 ,  872620.43651325,\n",
       "       1136143.09175212,  510258.7550623 , 1288102.88621638,\n",
       "       1371033.3346398 , 1310113.78224326, 1436855.31241042,\n",
       "       1051232.72974669,  684828.48739361, 1101019.83617934,\n",
       "       1567983.51294801, 1018012.68216361, 1050698.11270312,\n",
       "        825827.00943885, 1173621.66011216, 1591981.75730133,\n",
       "       1595728.99149165, 1360891.37529113, 1192754.82897969,\n",
       "        655836.47938466, 1560112.7853046 ,  813169.25379871,\n",
       "       1132145.75967511, 1564590.92451706, 1118669.76459779,\n",
       "       1569760.45331536, 1383018.33137042, 1609536.2300856 ,\n",
       "       1045549.71074357, 1174361.92171486, 1447869.79959177,\n",
       "       1824783.76109702, 1639844.91468839, 1488884.78527564,\n",
       "       1427514.92585418, 1231681.33305912, 1368014.03189635,\n",
       "       1424922.73584767, 1551131.49668313,  914701.22781707,\n",
       "       1249841.22219038,  258045.70919602, 1230968.70157337,\n",
       "       1126752.12639181,  858783.44109428,  739043.62099808,\n",
       "       1044214.90471311, 1112387.60767918, 1223250.56468727,\n",
       "       1447909.23403619, 1328619.03653258, 1049307.01433342,\n",
       "        769590.67267147, 1751850.88833512, 1463027.897591  ,\n",
       "       2139919.10952291, 1718412.1371305 , 1115993.45943508,\n",
       "       1995828.29498941, 1193379.31596138,  660188.56028408,\n",
       "        660678.46196101, 1798655.55037073,  470131.44658409,\n",
       "       1364102.16506243,  889323.70684001,  706548.24954165,\n",
       "       1399891.22458688, 1416306.27235891,  967240.32613214,\n",
       "       1729652.56536646,  869958.83238876, 1437817.09450817,\n",
       "       1122484.53204022, 1673255.03691676, 1440039.59230989,\n",
       "       1500539.40538973,  971584.27416956, 1043184.935673  ,\n",
       "       1317543.16932928, 1007627.13026089, 1323354.40365541,\n",
       "       1135667.17490178, 1510351.76679851,  993056.44789483,\n",
       "       1208831.6583276 , 1988655.64291084, 1230200.72390674,\n",
       "       1390403.72276626, 1262914.99801435, 1582327.50953688,\n",
       "       1028414.83031315, 1672107.67442239, 1265752.8295915 ,\n",
       "       1236601.43306984,  329710.11232961,  717954.1128098 ,\n",
       "       1103733.13974486, 1188712.89825671, 1261796.72795411,\n",
       "       1193848.8215225 , 1303384.58750888, 1076900.5357587 ,\n",
       "       1169750.68418026, 1458470.38909803, 1190650.84525978,\n",
       "       1360612.2033834 , 1497401.76740699,  916161.01831818,\n",
       "       1311284.98583137, 1579839.09403304, 1155915.5454168 ,\n",
       "       1425748.49376165, 1287287.54555808, 1153862.22489316,\n",
       "       1825980.94614764, 1049734.1522132 ,  909542.47470268,\n",
       "       1253936.42188605, 1467206.44416841, 1639991.73405582,\n",
       "       1521767.77491785, 1019769.20382372,  652300.40469468,\n",
       "        643377.65271697, 1142025.9127117 , 1263237.98299683,\n",
       "       1258087.11819232,  589606.05536976, 1187007.16456487,\n",
       "       1121740.50402122, 1808959.71031358, 1800055.63690805,\n",
       "       1123524.63673938, 1425287.86106934, 1510529.71215077,\n",
       "       1323072.46306216, 1443101.22620898, 1296655.19033918,\n",
       "       1551943.68696653, 1237292.00298087,  665445.49485864,\n",
       "       1262709.17153413, 1048886.41492071, 1867303.54970962,\n",
       "       1562894.27356946,  731321.70170499, 1239100.56464228,\n",
       "        909236.28293377, 1752100.42286093, 1602831.78580355,\n",
       "       1504851.06631647, 1411568.94781492, 1394422.38818576,\n",
       "        370722.62126894, 1672311.97769409, 2120154.65355426,\n",
       "        421201.54386786, 1486648.19169931, 1200115.30672021,\n",
       "       1531544.96637764, 1031782.76469213,  842914.91778182,\n",
       "        838950.40676634,  596819.74942491,  855574.21947051,\n",
       "       1040351.51174867, 1499196.39432647, 1353188.18645183,\n",
       "       1167128.79448732,  980462.42074901, 1615652.70345418,\n",
       "       1192255.12726459, 1280277.40202466,  542769.58059301,\n",
       "       1121564.11390542, 1430520.80041271, 1187720.59708794,\n",
       "       1293444.79096409, 1344677.83092672, 1183418.13056097,\n",
       "       1508087.09800629, 1265155.24508926, 1342605.87097162,\n",
       "       1277584.98121803,  733241.48650893, 1553389.38956826,\n",
       "       1398171.05352941, 1187021.49985599, 1371024.2900689 ,\n",
       "       1108983.89166018,  975275.64367687, 1202021.72545496,\n",
       "       1933557.6627894 ,  753137.60441143,  972296.00805803,\n",
       "       1448918.48607893, 1859400.97278726,  914399.5769572 ,\n",
       "       1004535.08620228,  924307.9193291 ,  964217.30193258,\n",
       "       1220872.72352639, 1266519.75438405, 1619407.66362994,\n",
       "       1582521.8990761 ,  764723.64152428, 1739052.84077971,\n",
       "       1593274.88965288, 1677324.99055414,  982954.91497658,\n",
       "       1370603.38372502,  906582.85685703, 1631028.42785935,\n",
       "        690988.17277099, 1573202.0784274 , 1466498.88062096,\n",
       "       1650267.04845535, 1182468.07832065, 1173494.86869985,\n",
       "       1333497.9602431 , 1256991.46375876, 1859915.69316212,\n",
       "        758934.10499929, 1392542.74052307, 1711869.49819383,\n",
       "       1561607.5874123 ,  886776.00191142, 1312020.95776119,\n",
       "       1174661.91515481, 1071955.83874449, 1381315.05056356,\n",
       "       1106592.45010921, 1170614.82399694,  992963.00044671,\n",
       "       1471298.27839551, 1531571.13792432, 1609332.54145859,\n",
       "       1374687.26168907,  963514.88833804, 1516653.63997645,\n",
       "       1161808.9337429 ,  874674.36305494, 1168468.71316205,\n",
       "        608242.40551401, 1499895.89008379, 1020508.80251927,\n",
       "       1657914.86180067,  870372.4297565 , 1469286.71372917,\n",
       "       1585005.1099001 , 2474725.66527174, 1312108.9754553 ,\n",
       "        927776.12992536, 1291387.28478204, 1591848.64102514,\n",
       "        601180.27473501, 1595036.52624213, 1186556.58305162,\n",
       "       1569918.89962094,  775297.74281862, 1498585.74619838,\n",
       "        731227.25771155, 1504692.54832438, 1046686.00738128,\n",
       "       1305402.58575973, 1275949.48895682,  997331.42657978,\n",
       "        617836.40659196, 1591112.86332926, 1400763.16673385,\n",
       "       1311860.51933239, 1197044.05948832, 1041880.02840154,\n",
       "       1530068.19561792,  967934.24578182, 1427009.14149094,\n",
       "       1165147.25822145,  869045.49036599, 1541101.84334551,\n",
       "        952854.45148333, 1649273.51933494, 1262902.39001229,\n",
       "        630780.8541972 ,  576868.98552437, 1709538.25511068,\n",
       "       1627857.63001048,  838666.12045459,  878776.97048247,\n",
       "       1299345.44781405, 1160416.6213845 ,  749980.45207412,\n",
       "        983974.19311116, 1153309.90526939,  943191.01927427,\n",
       "       1123570.59504183, 1547446.72609461, 1298891.03780601,\n",
       "        694670.38901478, 1042411.7239971 ,  858369.88200498,\n",
       "       1238168.96478328, 1069914.1618376 , 1032803.77343633,\n",
       "       1215816.40190439, 1344361.73315558, 1128683.07321975,\n",
       "       1451580.2340314 , 1094467.12736013, 1242819.75475191,\n",
       "       1312634.56732406, 1501591.70729071, 1577868.55728424,\n",
       "       1263870.34957635,  966363.73113454, 1304929.99505732,\n",
       "        948730.96917438, 1116943.51964661, 1177297.49010983,\n",
       "        988220.39094923, 1035263.71039961, 1114925.57767774,\n",
       "       1691529.13991383,  493943.88206347, 1819479.31451042,\n",
       "       1387271.64234034,  632696.71378614, 1224357.78570385,\n",
       "       1180743.31764195, 1036241.70518232,  921234.34851234,\n",
       "       1754054.1117938 , 1583328.06187218, 1563758.96394329,\n",
       "       1342866.59984841, 1173594.23690919, 1042902.5754118 ,\n",
       "       1318531.80156886, 1870001.48200049, 1663623.8581757 ,\n",
       "       1045096.55057783])"
      ]
     },
     "execution_count": 21,
     "metadata": {},
     "output_type": "execute_result"
    }
   ],
   "source": [
    "y_pred"
   ]
  },
  {
   "cell_type": "markdown",
   "id": "b13f2a49",
   "metadata": {},
   "source": [
    "# Visualizing the actual and predicted price"
   ]
  },
  {
   "cell_type": "code",
   "execution_count": 22,
   "id": "04307659",
   "metadata": {},
   "outputs": [
    {
     "data": {
      "image/png": "[encoded data removed]",
      "text/plain": [
       "<Figure size 432x288 with 1 Axes>"
      ]
     },
     "metadata": {
      "needs_background": "light"
     },
     "output_type": "display_data"
    }
   ],
   "source": [
    "plt.scatter(y_test,y_pred)\n",
    "plt.xlabel(\"Actual price\")\n",
    "plt.ylabel(\"Predicted price\")\n",
    "plt.title(\"Actual price vs Predicted price\")\n",
    "plt.show()"
   ]
  },
  {
   "cell_type": "markdown",
   "id": "25952e4b",
   "metadata": {},
   "source": [
    "# Model Evaluation -Linear Regression"
   ]
  },
  {
   "cell_type": "code",
   "execution_count": 24,
   "id": "ff16a81e",
   "metadata": {},
   "outputs": [
    {
     "name": "stdout",
     "output_type": "stream",
     "text": [
      "Mean_absolute_percentage_error: 0.07387838859753282\n",
      "R2 score: 0.9179971706834602\n"
     ]
    }
   ],
   "source": [
    "\n",
    "print(\"Mean_absolute_percentage_error:\",mean_absolute_percentage_error(y_test, y_pred))\n",
    "print(\"R2 score:\",r2_score(y_test, y_pred))"
   ]
  },
  {
   "cell_type": "markdown",
   "id": "10ca7641",
   "metadata": {},
   "source": [
    "# Model Training-Random Forest"
   ]
  },
  {
   "cell_type": "code",
   "execution_count": 26,
   "id": "760c7890",
   "metadata": {},
   "outputs": [],
   "source": [
    "from sklearn.ensemble import RandomForestRegressor"
   ]
  },
  {
   "cell_type": "code",
   "execution_count": 27,
   "id": "60200e28",
   "metadata": {},
   "outputs": [],
   "source": [
    "model_2 = RandomForestRegressor(n_estimators=400, random_state=42)\n"
   ]
  },
  {
   "cell_type": "code",
   "execution_count": 28,
   "id": "d071a94e",
   "metadata": {},
   "outputs": [
    {
     "data": {
      "text/plain": [
       "RandomForestRegressor(n_estimators=400, random_state=42)"
      ]
     },
     "execution_count": 28,
     "metadata": {},
     "output_type": "execute_result"
    }
   ],
   "source": [
    "model_2.fit(X_train,y_train)"
   ]
  },
  {
   "cell_type": "markdown",
   "id": "ffc94d91",
   "metadata": {},
   "source": [
    "# Prediction from our model"
   ]
  },
  {
   "cell_type": "code",
   "execution_count": 29,
   "id": "896444a3",
   "metadata": {},
   "outputs": [],
   "source": [
    "y_pred2=model_2.predict(X_test)"
   ]
  },
  {
   "cell_type": "markdown",
   "id": "a38de2f0",
   "metadata": {},
   "source": [
    "# Model Evaluation-Random Forest"
   ]
  },
  {
   "cell_type": "code",
   "execution_count": 30,
   "id": "1bd606dc",
   "metadata": {},
   "outputs": [
    {
     "name": "stdout",
     "output_type": "stream",
     "text": [
      "Mean_absolute_percentage_error: 0.08833312663214292\n",
      "R2 score: 0.8832269304351268\n"
     ]
    }
   ],
   "source": [
    "\n",
    "\n",
    "print(\"Mean_absolute_percentage_error:\",mean_absolute_percentage_error(y_test, y_pred2))\n",
    "print(\"R2 score:\",r2_score(y_test, y_pred2))"
   ]
  },
  {
   "cell_type": "markdown",
   "id": "adab3f9d",
   "metadata": {},
   "source": [
    "# Model Training-XGBoost Regressor"
   ]
  },
  {
   "cell_type": "code",
   "execution_count": 31,
   "id": "51f58107",
   "metadata": {},
   "outputs": [],
   "source": [
    "from xgboost import XGBRegressor\n"
   ]
  },
  {
   "cell_type": "code",
   "execution_count": 32,
   "id": "9e91620b",
   "metadata": {},
   "outputs": [],
   "source": [
    "model_3=XGBRegressor()"
   ]
  },
  {
   "cell_type": "code",
   "execution_count": 33,
   "id": "1a3bc7a5",
   "metadata": {},
   "outputs": [
    {
     "data": {
      "text/plain": [
       "XGBRegressor(base_score=None, booster=None, callbacks=None,\n",
       "             colsample_bylevel=None, colsample_bynode=None,\n",
       "             colsample_bytree=None, device=None, early_stopping_rounds=None,\n",
       "             enable_categorical=False, eval_metric=None, feature_types=None,\n",
       "             gamma=None, grow_policy=None, importance_type=None,\n",
       "             interaction_constraints=None, learning_rate=None, max_bin=None,\n",
       "             max_cat_threshold=None, max_cat_to_onehot=None,\n",
       "             max_delta_step=None, max_depth=None, max_leaves=None,\n",
       "             min_child_weight=None, missing=nan, monotone_constraints=None,\n",
       "             multi_strategy=None, n_estimators=None, n_jobs=None,\n",
       "             num_parallel_tree=None, random_state=None, ...)"
      ]
     },
     "execution_count": 33,
     "metadata": {},
     "output_type": "execute_result"
    }
   ],
   "source": [
    "model_3.fit(X_train,y_train)"
   ]
  },
  {
   "cell_type": "code",
   "execution_count": 34,
   "id": "ad67a08d",
   "metadata": {},
   "outputs": [],
   "source": [
    "y_pred3=model_3.predict(X_test)"
   ]
  },
  {
   "cell_type": "markdown",
   "id": "f7bc0138",
   "metadata": {},
   "source": [
    "# Model Evaluation-XGBoost Regressor"
   ]
  },
  {
   "cell_type": "code",
   "execution_count": 35,
   "id": "9864edfa",
   "metadata": {},
   "outputs": [
    {
     "name": "stdout",
     "output_type": "stream",
     "text": [
      "Mean_absolute_percentage_error: 0.08911786263882289\n",
      "R2 score: 0.8787901076275872\n"
     ]
    }
   ],
   "source": [
    "print(\"Mean_absolute_percentage_error:\",mean_absolute_percentage_error(y_test, y_pred3))\n",
    "print(\"R2 score:\",r2_score(y_test, y_pred3))"
   ]
  },
  {
   "cell_type": "code",
   "execution_count": 37,
   "id": "1fd4cbb1",
   "metadata": {},
   "outputs": [
    {
     "data": {
      "text/html": [
       "<div>\n",
       "<style scoped>\n",
       "    .dataframe tbody tr th:only-of-type {\n",
       "        vertical-align: middle;\n",
       "    }\n",
       "\n",
       "    .dataframe tbody tr th {\n",
       "        vertical-align: top;\n",
       "    }\n",
       "\n",
       "    .dataframe thead th {\n",
       "        text-align: right;\n",
       "    }\n",
       "</style>\n",
       "<table border=\"1\" class=\"dataframe\">\n",
       "  <thead>\n",
       "    <tr style=\"text-align: right;\">\n",
       "      <th></th>\n",
       "      <th>Model</th>\n",
       "      <th>R² Score</th>\n",
       "      <th>MAE</th>\n",
       "    </tr>\n",
       "  </thead>\n",
       "  <tbody>\n",
       "    <tr>\n",
       "      <th>0</th>\n",
       "      <td>model_1</td>\n",
       "      <td>0.91</td>\n",
       "      <td>0.0730</td>\n",
       "    </tr>\n",
       "    <tr>\n",
       "      <th>1</th>\n",
       "      <td>model_2</td>\n",
       "      <td>0.88</td>\n",
       "      <td>0.0883</td>\n",
       "    </tr>\n",
       "    <tr>\n",
       "      <th>2</th>\n",
       "      <td>model_3</td>\n",
       "      <td>0.87</td>\n",
       "      <td>0.0890</td>\n",
       "    </tr>\n",
       "  </tbody>\n",
       "</table>\n",
       "</div>"
      ],
      "text/plain": [
       "     Model  R² Score     MAE\n",
       "0  model_1      0.91  0.0730\n",
       "1  model_2      0.88  0.0883\n",
       "2  model_3      0.87  0.0890"
      ]
     },
     "execution_count": 37,
     "metadata": {},
     "output_type": "execute_result"
    }
   ],
   "source": [
    "\n",
    "model_names = ['model_1', 'model_2', 'model_3']\n",
    "r2_scores = [0.91, 0.88, 0.87]\n",
    "mae_values = [0.073, 0.0883, 0.089]\n",
    "\n",
    "\n",
    "data = {\n",
    "    'Model': model_names,\n",
    "    'R² Score': r2_scores,\n",
    "    'MAE': mae_values\n",
    "}\n",
    "\n",
    "df = pd.DataFrame(data)\n",
    "\n",
    "df\n",
    "df_sorted = df.sort_values(by='R² Score', ascending=False)\n",
    "df_sorted\n",
    "\n"
   ]
  },
  {
   "cell_type": "markdown",
   "id": "166e1780",
   "metadata": {},
   "source": [
    "# Conclusion"
   ]
  },
  {
   "cell_type": "markdown",
   "id": "0716c83a",
   "metadata": {},
   "source": [
    "Based on the comparison of R² scores and MAE values, Model 1 is the best-performing model with an R² score of 0.901and an MAE of 0.073. This model explains the highest proportion of variance in the dependent variable while also having the smallest average error. Therefore, Model 1 is recommended for deployment. "
   ]
  },
  {
   "cell_type": "code",
   "execution_count": null,
   "id": "8aa4fb4f",
   "metadata": {},
   "outputs": [],
   "source": []
  }
 ],
 "metadata": {
  "kernelspec": {
   "display_name": "Python 3 (ipykernel)",
   "language": "python",
   "name": "python3"
  },
  "language_info": {
   "codemirror_mode": {
    "name": "ipython",
    "version": 3
   },
   "file_extension": ".py",
   "mimetype": "text/x-python",
   "name": "python",
   "nbconvert_exporter": "python",
   "pygments_lexer": "ipython3",
   "version": "3.9.12"
  }
 },
 "nbformat": 4,
 "nbformat_minor": 5
}
